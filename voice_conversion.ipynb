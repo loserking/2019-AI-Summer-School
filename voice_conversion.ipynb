{
  "nbformat": 4,
  "nbformat_minor": 0,
  "metadata": {
    "colab": {
      "name": "demo.ipynb",
      "version": "0.3.2",
      "provenance": [],
      "collapsed_sections": []
    },
    "kernelspec": {
      "name": "python3",
      "display_name": "Python 3"
    },
    "accelerator": "GPU"
  },
  "cells": [
    {
      "cell_type": "markdown",
      "metadata": {
        "id": "SsgqriYDSvA8",
        "colab_type": "text"
      },
      "source": [
        "# 下載程式碼\n",
        "使用git clone 指令從github下載程式碼。"
      ]
    },
    {
      "cell_type": "code",
      "metadata": {
        "id": "mRdO4HC8wh8R",
        "colab_type": "code",
        "colab": {}
      },
      "source": [
        "!git clone https://github.com/BogiHsu/2019-AI-Summer-School-Voice-Conversion.git"
      ],
      "execution_count": 0,
      "outputs": []
    },
    {
      "cell_type": "markdown",
      "metadata": {
        "id": "0gNfvWYUTIC0",
        "colab_type": "text"
      },
      "source": [
        "# 安裝必要套件\n",
        "用pip3安裝requierments.txt中所列出的必要套件。"
      ]
    },
    {
      "cell_type": "code",
      "metadata": {
        "id": "mkfEzYrm0G4Q",
        "colab_type": "code",
        "colab": {}
      },
      "source": [
        "import os\n",
        "os.chdir('2019-AI-Summer-School-Voice-Conversion')\n",
        "!pip3 install -r requirements.txt"
      ],
      "execution_count": 0,
      "outputs": []
    },
    {
      "cell_type": "markdown",
      "metadata": {
        "id": "u6aeSYMCS8Cj",
        "colab_type": "text"
      },
      "source": [
        "# 下載訓練好的模型\n",
        "\n",
        "下載訓練好的模型model.pkl，並放到pkl資料夾中。"
      ]
    },
    {
      "cell_type": "code",
      "metadata": {
        "id": "A57wpoR2KebJ",
        "colab_type": "code",
        "colab": {}
      },
      "source": [
        "import os\n",
        "os.chdir('2019-AI-Summer-School-Voice-Conversion')\n",
        "!wget http://speech.ee.ntu.edu.tw/~jjery2243542/model.pkl\n",
        "!mkdir pkl\n",
        "!mv model.pkl pkl/model.pkl"
      ],
      "execution_count": 0,
      "outputs": []
    },
    {
      "cell_type": "markdown",
      "metadata": {
        "id": "yYrPxTfpTV2F",
        "colab_type": "text"
      },
      "source": [
        "# 範例音檔\n",
        "在samples中有225.wav~229.wav等五個不同speaker的聲音範例。"
      ]
    },
    {
      "cell_type": "code",
      "metadata": {
        "id": "NdrqCFJ6g_qh",
        "colab_type": "code",
        "colab": {}
      },
      "source": [
        "import IPython.display as ipd\n",
        "ipd.Audio('samples/225.wav')"
      ],
      "execution_count": 0,
      "outputs": []
    },
    {
      "cell_type": "markdown",
      "metadata": {
        "id": "oBcWBNuKUi3U",
        "colab_type": "text"
      },
      "source": [
        "# 聲音轉換\n",
        "convert.py能一次轉換多個speaker及多個句子。\n",
        "\n",
        "如:python3 convert.py 3 5，會選定3個speaker，倆倆互相轉換(共6種轉換方式)，每種轉換方式有5個句子。\n",
        "\n",
        "最多可選擇5個speaker和5個句子。\n",
        "\n",
        "轉換結果存在results資料夾中。"
      ]
    },
    {
      "cell_type": "code",
      "metadata": {
        "id": "tZKkdJ4x0miR",
        "colab_type": "code",
        "colab": {}
      },
      "source": [
        "!python3 convert.py 2 2"
      ],
      "execution_count": 0,
      "outputs": []
    },
    {
      "cell_type": "markdown",
      "metadata": {
        "id": "1H5cct5eK66M",
        "colab_type": "text"
      },
      "source": [
        "### 播放轉換結果"
      ]
    },
    {
      "cell_type": "code",
      "metadata": {
        "id": "8P5YUY6mK5zG",
        "colab_type": "code",
        "colab": {}
      },
      "source": [
        "import IPython.display as ipd\n",
        "ipd.Audio('results/p225_p226/225_226_358.wav')"
      ],
      "execution_count": 0,
      "outputs": []
    },
    {
      "cell_type": "markdown",
      "metadata": {
        "id": "U3WaHikJVzx9",
        "colab_type": "text"
      },
      "source": [
        "# 使用個人聲音做轉換\n"
      ]
    },
    {
      "cell_type": "markdown",
      "metadata": {
        "id": "HMz9eENfYGCE",
        "colab_type": "text"
      },
      "source": [
        "### 錄音\n",
        "recorder.py中的get_audio()函數已寫好如何在colab中錄音，當圖示跳出即開始錄音。\n",
        "\n",
        "錄音完成存檔檔名為record.wav。"
      ]
    },
    {
      "cell_type": "code",
      "metadata": {
        "id": "xBhk4c1PzZtj",
        "colab_type": "code",
        "colab": {}
      },
      "source": [
        "from scipy.io import wavfile\n",
        "from recorder import get_audio\n",
        "audio = get_audio()\n",
        "filename = 'record.wav'\n",
        "wavfile.write(filename, 16000, audio)"
      ],
      "execution_count": 0,
      "outputs": []
    },
    {
      "cell_type": "markdown",
      "metadata": {
        "id": "0n2MzWTqX7oD",
        "colab_type": "text"
      },
      "source": [
        "### 轉換\n"
      ]
    },
    {
      "cell_type": "code",
      "metadata": {
        "id": "PWzaOPjM8WM_",
        "colab_type": "code",
        "colab": {}
      },
      "source": [
        "# make conversion\n",
        "import torch\n",
        "import numpy as np\n",
        "from convert import get_model\n",
        "from scipy.io.wavfile import write\n",
        "from torch.autograd import Variable\n",
        "from preprocess.tacotron.norm_utils import spectrogram2wav, get_spectrograms"
      ],
      "execution_count": 0,
      "outputs": []
    },
    {
      "cell_type": "markdown",
      "metadata": {
        "id": "hXzeRKA4GiDN",
        "colab_type": "text"
      },
      "source": [
        "讀取模型"
      ]
    },
    {
      "cell_type": "code",
      "metadata": {
        "id": "7afUaojiGfRt",
        "colab_type": "code",
        "colab": {}
      },
      "source": [
        "solver = get_model(hps_path = './hps/vctk.json', model_path = './pkl/model.pkl')"
      ],
      "execution_count": 0,
      "outputs": []
    },
    {
      "cell_type": "markdown",
      "metadata": {
        "id": "TfrgWKYgGoRV",
        "colab_type": "text"
      },
      "source": [
        "製作speaker-id對照表"
      ]
    },
    {
      "cell_type": "code",
      "metadata": {
        "id": "zUPazrOpGTON",
        "colab_type": "code",
        "colab": {}
      },
      "source": [
        "with open('./hps/en_speaker_used.txt') as f:\n",
        "\tspeakers = [line.strip() for line in f]\n",
        "speaker2id = {speaker:i for i, speaker in enumerate(speakers)}"
      ],
      "execution_count": 0,
      "outputs": []
    },
    {
      "cell_type": "markdown",
      "metadata": {
        "id": "Wmbgo4RyGtQc",
        "colab_type": "text"
      },
      "source": [
        "準備輸入資料"
      ]
    },
    {
      "cell_type": "code",
      "metadata": {
        "id": "HLRMyd8YGOid",
        "colab_type": "code",
        "colab": {}
      },
      "source": [
        "speaker = '225'\n",
        "_, spec = get_spectrograms(filename)\n",
        "spec_expand = np.expand_dims(spec, axis = 0)\n",
        "spec_tensor = torch.from_numpy(spec_expand).type(torch.FloatTensor)\n",
        "c = Variable(torch.from_numpy(np.array([speaker2id[speaker]]))).cuda()"
      ],
      "execution_count": 0,
      "outputs": []
    },
    {
      "cell_type": "markdown",
      "metadata": {
        "id": "I2QFvL7eG0I0",
        "colab_type": "text"
      },
      "source": [
        "使用模型做轉換"
      ]
    },
    {
      "cell_type": "code",
      "metadata": {
        "id": "R8aZwkdYGE4X",
        "colab_type": "code",
        "colab": {}
      },
      "source": [
        "result = solver.test_step(spec_tensor, c, gen = True)"
      ],
      "execution_count": 0,
      "outputs": []
    },
    {
      "cell_type": "markdown",
      "metadata": {
        "id": "l3B3f1rTGzpk",
        "colab_type": "text"
      },
      "source": [
        "頻譜轉音訊並存檔"
      ]
    },
    {
      "cell_type": "code",
      "metadata": {
        "id": "qazjM22tGFBN",
        "colab_type": "code",
        "colab": {}
      },
      "source": [
        "result = result.squeeze(axis = 0).transpose((1, 0))\n",
        "wav_data = spectrogram2wav(result)\n",
        "write('result.wav', rate = 16000, data = wav_data)"
      ],
      "execution_count": 0,
      "outputs": []
    },
    {
      "cell_type": "markdown",
      "metadata": {
        "id": "TG7pk6y-WTyE",
        "colab_type": "text"
      },
      "source": [
        "### 播放轉換結果"
      ]
    },
    {
      "cell_type": "code",
      "metadata": {
        "id": "5a7vp1aVuhxm",
        "colab_type": "code",
        "colab": {}
      },
      "source": [
        "# listen sample audio\n",
        "import IPython.display as ipd\n",
        "ipd.Audio('result.wav')"
      ],
      "execution_count": 0,
      "outputs": []
    },
    {
      "cell_type": "markdown",
      "metadata": {
        "id": "-9b4tyA1WY_k",
        "colab_type": "text"
      },
      "source": [
        "# 結果可視化\n",
        "將轉換前即轉換後的聲音檔分別繪成頻譜圖。"
      ]
    },
    {
      "cell_type": "markdown",
      "metadata": {
        "id": "rC7CzxjEWlys",
        "colab_type": "text"
      },
      "source": [
        "### 轉換前(錄音檔)"
      ]
    },
    {
      "cell_type": "code",
      "metadata": {
        "id": "rDPLrQgxM3X8",
        "colab_type": "code",
        "colab": {}
      },
      "source": [
        "%matplotlib inline\n",
        "from scipy.io import wavfile\n",
        "from matplotlib import pyplot as plt\n",
        "rate, x = wavfile.read('record.wav')\n",
        "fig, (ax1, ax2) = plt.subplots(1, 2, figsize=(12, 4))\n",
        "ax1.plot(x)\n",
        "ax1.set_title('Raw audio signal')\n",
        "ax2.specgram(x, Fs = 2)\n",
        "ax2.set_title('Spectrogram')"
      ],
      "execution_count": 0,
      "outputs": []
    },
    {
      "cell_type": "markdown",
      "metadata": {
        "id": "2HKOyHqJWxIs",
        "colab_type": "text"
      },
      "source": [
        "### 轉換後(模型輸出)"
      ]
    },
    {
      "cell_type": "code",
      "metadata": {
        "id": "fstSx3ysXMh6",
        "colab_type": "code",
        "colab": {}
      },
      "source": [
        "%matplotlib inline\n",
        "from scipy.io import wavfile\n",
        "from matplotlib import pyplot as plt\n",
        "rate, x = wavfile.read('result.wav')\n",
        "fig, (ax1, ax2) = plt.subplots(1, 2, figsize=(12, 4))\n",
        "ax1.plot(x)\n",
        "ax1.set_title('Raw audio signal')\n",
        "ax2.specgram(x, Fs = 2)\n",
        "ax2.set_title('Spectrogram')"
      ],
      "execution_count": 0,
      "outputs": []
    }
  ]
}